{
  "nbformat": 4,
  "nbformat_minor": 0,
  "metadata": {
    "colab": {
      "provenance": [],
      "authorship_tag": "ABX9TyOd1kIAdW7Cyh6Z7DVYqSIs",
      "include_colab_link": true
    },
    "kernelspec": {
      "name": "python3",
      "display_name": "Python 3"
    },
    "language_info": {
      "name": "python"
    }
  },
  "cells": [
    {
      "cell_type": "markdown",
      "metadata": {
        "id": "view-in-github",
        "colab_type": "text"
      },
      "source": [
        "<a href=\"https://colab.research.google.com/github/magnetbrains-bit/end-to-end-ml-pipeline-retail/blob/main/Retailrocket_recommender_system_dataset_V1.ipynb\" target=\"_parent\"><img src=\"https://colab.research.google.com/assets/colab-badge.svg\" alt=\"Open In Colab\"/></a>"
      ]
    },
    {
      "cell_type": "code",
      "execution_count": null,
      "metadata": {
        "colab": {
          "base_uri": "https://localhost:8080/",
          "height": 91
        },
        "id": "wT89RQv19F2c",
        "outputId": "ba3c31ce-edd1-42d3-8c2e-ec0c53221b9a"
      },
      "outputs": [
        {
          "output_type": "display_data",
          "data": {
            "text/plain": [
              "<IPython.core.display.HTML object>"
            ],
            "text/html": [
              "\n",
              "     <input type=\"file\" id=\"files-03022f1d-10bf-4aa7-ad9a-b24f127ab939\" name=\"files[]\" multiple disabled\n",
              "        style=\"border:none\" />\n",
              "     <output id=\"result-03022f1d-10bf-4aa7-ad9a-b24f127ab939\">\n",
              "      Upload widget is only available when the cell has been executed in the\n",
              "      current browser session. Please rerun this cell to enable.\n",
              "      </output>\n",
              "      <script>// Copyright 2017 Google LLC\n",
              "//\n",
              "// Licensed under the Apache License, Version 2.0 (the \"License\");\n",
              "// you may not use this file except in compliance with the License.\n",
              "// You may obtain a copy of the License at\n",
              "//\n",
              "//      http://www.apache.org/licenses/LICENSE-2.0\n",
              "//\n",
              "// Unless required by applicable law or agreed to in writing, software\n",
              "// distributed under the License is distributed on an \"AS IS\" BASIS,\n",
              "// WITHOUT WARRANTIES OR CONDITIONS OF ANY KIND, either express or implied.\n",
              "// See the License for the specific language governing permissions and\n",
              "// limitations under the License.\n",
              "\n",
              "/**\n",
              " * @fileoverview Helpers for google.colab Python module.\n",
              " */\n",
              "(function(scope) {\n",
              "function span(text, styleAttributes = {}) {\n",
              "  const element = document.createElement('span');\n",
              "  element.textContent = text;\n",
              "  for (const key of Object.keys(styleAttributes)) {\n",
              "    element.style[key] = styleAttributes[key];\n",
              "  }\n",
              "  return element;\n",
              "}\n",
              "\n",
              "// Max number of bytes which will be uploaded at a time.\n",
              "const MAX_PAYLOAD_SIZE = 100 * 1024;\n",
              "\n",
              "function _uploadFiles(inputId, outputId) {\n",
              "  const steps = uploadFilesStep(inputId, outputId);\n",
              "  const outputElement = document.getElementById(outputId);\n",
              "  // Cache steps on the outputElement to make it available for the next call\n",
              "  // to uploadFilesContinue from Python.\n",
              "  outputElement.steps = steps;\n",
              "\n",
              "  return _uploadFilesContinue(outputId);\n",
              "}\n",
              "\n",
              "// This is roughly an async generator (not supported in the browser yet),\n",
              "// where there are multiple asynchronous steps and the Python side is going\n",
              "// to poll for completion of each step.\n",
              "// This uses a Promise to block the python side on completion of each step,\n",
              "// then passes the result of the previous step as the input to the next step.\n",
              "function _uploadFilesContinue(outputId) {\n",
              "  const outputElement = document.getElementById(outputId);\n",
              "  const steps = outputElement.steps;\n",
              "\n",
              "  const next = steps.next(outputElement.lastPromiseValue);\n",
              "  return Promise.resolve(next.value.promise).then((value) => {\n",
              "    // Cache the last promise value to make it available to the next\n",
              "    // step of the generator.\n",
              "    outputElement.lastPromiseValue = value;\n",
              "    return next.value.response;\n",
              "  });\n",
              "}\n",
              "\n",
              "/**\n",
              " * Generator function which is called between each async step of the upload\n",
              " * process.\n",
              " * @param {string} inputId Element ID of the input file picker element.\n",
              " * @param {string} outputId Element ID of the output display.\n",
              " * @return {!Iterable<!Object>} Iterable of next steps.\n",
              " */\n",
              "function* uploadFilesStep(inputId, outputId) {\n",
              "  const inputElement = document.getElementById(inputId);\n",
              "  inputElement.disabled = false;\n",
              "\n",
              "  const outputElement = document.getElementById(outputId);\n",
              "  outputElement.innerHTML = '';\n",
              "\n",
              "  const pickedPromise = new Promise((resolve) => {\n",
              "    inputElement.addEventListener('change', (e) => {\n",
              "      resolve(e.target.files);\n",
              "    });\n",
              "  });\n",
              "\n",
              "  const cancel = document.createElement('button');\n",
              "  inputElement.parentElement.appendChild(cancel);\n",
              "  cancel.textContent = 'Cancel upload';\n",
              "  const cancelPromise = new Promise((resolve) => {\n",
              "    cancel.onclick = () => {\n",
              "      resolve(null);\n",
              "    };\n",
              "  });\n",
              "\n",
              "  // Wait for the user to pick the files.\n",
              "  const files = yield {\n",
              "    promise: Promise.race([pickedPromise, cancelPromise]),\n",
              "    response: {\n",
              "      action: 'starting',\n",
              "    }\n",
              "  };\n",
              "\n",
              "  cancel.remove();\n",
              "\n",
              "  // Disable the input element since further picks are not allowed.\n",
              "  inputElement.disabled = true;\n",
              "\n",
              "  if (!files) {\n",
              "    return {\n",
              "      response: {\n",
              "        action: 'complete',\n",
              "      }\n",
              "    };\n",
              "  }\n",
              "\n",
              "  for (const file of files) {\n",
              "    const li = document.createElement('li');\n",
              "    li.append(span(file.name, {fontWeight: 'bold'}));\n",
              "    li.append(span(\n",
              "        `(${file.type || 'n/a'}) - ${file.size} bytes, ` +\n",
              "        `last modified: ${\n",
              "            file.lastModifiedDate ? file.lastModifiedDate.toLocaleDateString() :\n",
              "                                    'n/a'} - `));\n",
              "    const percent = span('0% done');\n",
              "    li.appendChild(percent);\n",
              "\n",
              "    outputElement.appendChild(li);\n",
              "\n",
              "    const fileDataPromise = new Promise((resolve) => {\n",
              "      const reader = new FileReader();\n",
              "      reader.onload = (e) => {\n",
              "        resolve(e.target.result);\n",
              "      };\n",
              "      reader.readAsArrayBuffer(file);\n",
              "    });\n",
              "    // Wait for the data to be ready.\n",
              "    let fileData = yield {\n",
              "      promise: fileDataPromise,\n",
              "      response: {\n",
              "        action: 'continue',\n",
              "      }\n",
              "    };\n",
              "\n",
              "    // Use a chunked sending to avoid message size limits. See b/62115660.\n",
              "    let position = 0;\n",
              "    do {\n",
              "      const length = Math.min(fileData.byteLength - position, MAX_PAYLOAD_SIZE);\n",
              "      const chunk = new Uint8Array(fileData, position, length);\n",
              "      position += length;\n",
              "\n",
              "      const base64 = btoa(String.fromCharCode.apply(null, chunk));\n",
              "      yield {\n",
              "        response: {\n",
              "          action: 'append',\n",
              "          file: file.name,\n",
              "          data: base64,\n",
              "        },\n",
              "      };\n",
              "\n",
              "      let percentDone = fileData.byteLength === 0 ?\n",
              "          100 :\n",
              "          Math.round((position / fileData.byteLength) * 100);\n",
              "      percent.textContent = `${percentDone}% done`;\n",
              "\n",
              "    } while (position < fileData.byteLength);\n",
              "  }\n",
              "\n",
              "  // All done.\n",
              "  yield {\n",
              "    response: {\n",
              "      action: 'complete',\n",
              "    }\n",
              "  };\n",
              "}\n",
              "\n",
              "scope.google = scope.google || {};\n",
              "scope.google.colab = scope.google.colab || {};\n",
              "scope.google.colab._files = {\n",
              "  _uploadFiles,\n",
              "  _uploadFilesContinue,\n",
              "};\n",
              "})(self);\n",
              "</script> "
            ]
          },
          "metadata": {}
        },
        {
          "output_type": "stream",
          "name": "stdout",
          "text": [
            "Saving kaggle.json to kaggle.json\n"
          ]
        },
        {
          "output_type": "execute_result",
          "data": {
            "text/plain": [
              "{'kaggle.json': b'{\"username\":\"rajhimanshu24\",\"key\":\"2a216160b78e247cd54f03850472c93a\"}'}"
            ]
          },
          "metadata": {},
          "execution_count": 1
        }
      ],
      "source": [
        "from google.colab import files\n",
        "\n",
        "# This will prompt you to select a file.\n",
        "# Choose the 'kaggle.json' file you just downloaded.\n",
        "files.upload()"
      ]
    },
    {
      "cell_type": "code",
      "source": [
        "# Make a directory named \".kaggle\"\n",
        "!mkdir -p ~/.kaggle\n",
        "\n",
        "# Copy the kaggle.json to the new directory\n",
        "!cp kaggle.json ~/.kaggle/\n",
        "\n",
        "# Set the permissions for the file to be read and written by only the owner\n",
        "!chmod 600 ~/.kaggle/kaggle.json"
      ],
      "metadata": {
        "id": "Zq7711JZ9ajd"
      },
      "execution_count": null,
      "outputs": []
    },
    {
      "cell_type": "code",
      "source": [
        "!kaggle datasets download -d retailrocket/ecommerce-dataset"
      ],
      "metadata": {
        "colab": {
          "base_uri": "https://localhost:8080/"
        },
        "id": "0EEPC3D3_s32",
        "outputId": "b47f8f90-9805-49a5-e4c0-05022cc4ac67"
      },
      "execution_count": null,
      "outputs": [
        {
          "output_type": "stream",
          "name": "stdout",
          "text": [
            "Dataset URL: https://www.kaggle.com/datasets/retailrocket/ecommerce-dataset\n",
            "License(s): CC-BY-NC-SA-4.0\n",
            "Downloading ecommerce-dataset.zip to /content\n",
            " 97% 282M/291M [00:07<00:00, 29.1MB/s]\n",
            "100% 291M/291M [00:07<00:00, 42.6MB/s]\n"
          ]
        }
      ]
    },
    {
      "cell_type": "code",
      "source": [
        "!unzip ecommerce-dataset.zip"
      ],
      "metadata": {
        "colab": {
          "base_uri": "https://localhost:8080/"
        },
        "id": "TcgDX-Yh_9F6",
        "outputId": "6aae6991-69a9-4f1a-c619-1f8a3d5318e5"
      },
      "execution_count": null,
      "outputs": [
        {
          "output_type": "stream",
          "name": "stdout",
          "text": [
            "Archive:  ecommerce-dataset.zip\n",
            "  inflating: category_tree.csv       \n",
            "  inflating: events.csv              \n",
            "  inflating: item_properties_part1.csv  \n",
            "  inflating: item_properties_part2.csv  \n"
          ]
        }
      ]
    },
    {
      "cell_type": "markdown",
      "source": [
        "# Step 1: Load and Combine All Datasets"
      ],
      "metadata": {
        "id": "6wscKz3OBOsV"
      }
    },
    {
      "cell_type": "code",
      "source": [
        "# Cell 1: Load all data files and perform initial merge\n",
        "\n",
        "import pandas as pd\n",
        "import numpy as np\n",
        "\n",
        "print(\"Loading data...\")\n",
        "\n",
        "# Load the main events file\n",
        "# Note: For very large files, you might use dask or process in chunks. For now, Colab can handle this.\n",
        "events_df = pd.read_csv('events.csv')\n",
        "\n",
        "# Load the two item property files and concatenate them\n",
        "item_props_df_part1 = pd.read_csv('item_properties_part1.csv')\n",
        "item_props_df_part2 = pd.read_csv('item_properties_part2.csv')\n",
        "item_props_df = pd.concat([item_props_df_part1, item_props_df_part2], ignore_index=True)\n",
        "\n",
        "print(\"Data loaded successfully.\")\n",
        "print(f\"Events data shape: {events_df.shape}\")\n",
        "print(f\"Item properties data shape: {item_props_df.shape}\")\n",
        "\n",
        "# --- Initial Cleaning and Merging ---\n",
        "\n",
        "# Convert timestamp to datetime objects\n",
        "events_df['timestamp'] = pd.to_datetime(events_df['timestamp'], unit='ms')\n",
        "\n",
        "# We only need the most recent property for each item. Let's find it.\n",
        "# This is a common data preparation step.\n",
        "item_props_df['timestamp'] = pd.to_datetime(item_props_df['timestamp'], unit='ms')\n",
        "latest_props = item_props_df.loc[item_props_df.groupby('itemid')['timestamp'].idxmax()]\n",
        "\n",
        "# Merge events with the latest item properties\n",
        "# We use a 'left' join to keep all events, even if an item has no properties.\n",
        "merged_df = pd.merge(events_df, latest_props[['itemid', 'property', 'value']], on='itemid', how='left')\n",
        "\n",
        "print(\"\\nData after merging:\")\n",
        "print(merged_df.head())"
      ],
      "metadata": {
        "colab": {
          "base_uri": "https://localhost:8080/"
        },
        "id": "5ggh2g6MATDC",
        "outputId": "43cff1a8-87dd-4238-89cf-c2b798ce6ea7"
      },
      "execution_count": null,
      "outputs": [
        {
          "output_type": "stream",
          "name": "stdout",
          "text": [
            "Loading data...\n",
            "Data loaded successfully.\n",
            "Events data shape: (2756101, 5)\n",
            "Item properties data shape: (20275902, 4)\n",
            "\n",
            "Data after merging:\n",
            "                timestamp  visitorid event  itemid  transactionid property  \\\n",
            "0 2015-06-02 05:02:12.117     257597  view  355908            NaN      400   \n",
            "1 2015-06-02 05:50:14.164     992329  view  248676            NaN      888   \n",
            "2 2015-06-02 05:13:19.827     111016  view  318965            NaN      NaN   \n",
            "3 2015-06-02 05:12:35.914     483717  view  253185            NaN      227   \n",
            "4 2015-06-02 05:02:17.106     951259  view  367447            NaN        0   \n",
            "\n",
            "                                               value  \n",
            "0                    n552.000 639502 n720.000 424566  \n",
            "1                                      857982 961511  \n",
            "2                                                NaN  \n",
            "3                                            1055600  \n",
            "4  119932 754228 801383 471403 801383 693640 9860...  \n"
          ]
        }
      ]
    },
    {
      "cell_type": "markdown",
      "source": [
        "# Step 2: Define the Feature Engineering Logic"
      ],
      "metadata": {
        "id": "sP8uVUCrBrrj"
      }
    },
    {
      "cell_type": "code",
      "source": [
        "# Cell 2: Feature Engineering Function\n",
        "\n",
        "def create_features(events, end_date):\n",
        "    \"\"\"\n",
        "    Creates features for each visitorid based on their activity up to end_date.\n",
        "    \"\"\"\n",
        "    # Filter events up to the specified end date\n",
        "    df = events[events['timestamp'] <= end_date].copy()\n",
        "\n",
        "    # Aggregate features for each visitor\n",
        "    features = df.groupby('visitorid').agg(\n",
        "        # Frequency features\n",
        "        total_events=('event', 'count'),\n",
        "        num_views=('event', lambda x: (x == 'view').sum()),\n",
        "        num_addtocart=('event', lambda x: (x == 'addtocart').sum()),\n",
        "        num_transactions=('event', lambda x: (x == 'transaction').sum()),\n",
        "\n",
        "        # Engagement features\n",
        "        num_unique_items=('itemid', 'nunique'),\n",
        "\n",
        "        # Recency feature: days since last event\n",
        "        last_event_ts=('timestamp', 'max')\n",
        "    ).reset_index()\n",
        "\n",
        "    # Calculate recency in days from the end_date\n",
        "    features['days_since_last_event'] = (end_date - features['last_event_ts']).dt.days\n",
        "    features = features.drop(columns=['last_event_ts'])\n",
        "\n",
        "    # Create interaction features\n",
        "    features['add_to_cart_rate'] = features['num_addtocart'] / features['num_views']\n",
        "    features['buy_rate'] = features['num_transactions'] / features['total_events']\n",
        "\n",
        "    # Handle potential division by zero\n",
        "    features.fillna(0, inplace=True)\n",
        "\n",
        "    return features\n",
        "\n",
        "print(\"Feature engineering function created.\")"
      ],
      "metadata": {
        "colab": {
          "base_uri": "https://localhost:8080/"
        },
        "id": "W0TxuF3NBt7M",
        "outputId": "e50a9aaf-6ca1-4848-b65a-94282af05122"
      },
      "execution_count": null,
      "outputs": [
        {
          "output_type": "stream",
          "name": "stdout",
          "text": [
            "Feature engineering function created.\n"
          ]
        }
      ]
    },
    {
      "cell_type": "markdown",
      "source": [
        "# Step 3: Define the Target Variable Creation Logic"
      ],
      "metadata": {
        "id": "pY9R3NTvB0ug"
      }
    },
    {
      "cell_type": "code",
      "source": [
        "# Cell 3: Target Variable Function\n",
        "\n",
        "def create_target(events, users, start_date, end_date):\n",
        "    \"\"\"\n",
        "    Creates a target variable for each user.\n",
        "    Target is 1 if the user had a transaction between start_date and end_date.\n",
        "    \"\"\"\n",
        "    # Find all transactions within the target window\n",
        "    target_window = events[(events['timestamp'] > start_date) & (events['timestamp'] <= end_date)]\n",
        "    transactions = target_window[target_window['event'] == 'transaction']\n",
        "\n",
        "    # Get the unique visitors who made a transaction\n",
        "    buyers = transactions['visitorid'].unique()\n",
        "\n",
        "    # Create the target column\n",
        "    users['target'] = users['visitorid'].isin(buyers).astype(int)\n",
        "\n",
        "    return users\n",
        "\n",
        "print(\"Target variable creation function created.\")"
      ],
      "metadata": {
        "colab": {
          "base_uri": "https://localhost:8080/"
        },
        "id": "Aqe6qo-3B2t3",
        "outputId": "34795b53-d0de-4c8a-da79-b44c9a1e465d"
      },
      "execution_count": null,
      "outputs": [
        {
          "output_type": "stream",
          "name": "stdout",
          "text": [
            "Target variable creation function created.\n"
          ]
        }
      ]
    },
    {
      "cell_type": "markdown",
      "source": [
        "# Step 4: Chronological Split and Data Assembly"
      ],
      "metadata": {
        "id": "e_i3XMGfB7mR"
      }
    },
    {
      "cell_type": "code",
      "source": [
        "# Cell 4: Create Training and Testing Sets\n",
        "\n",
        "from datetime import timedelta\n",
        "\n",
        "# -- Define our time windows --\n",
        "# We will use data up to August 15th to train the model.\n",
        "train_end_date = pd.to_datetime('2015-08-15')\n",
        "\n",
        "# We want to predict who will buy in the following week.\n",
        "train_target_start_date = train_end_date\n",
        "train_target_end_date = train_end_date + timedelta(days=7)\n",
        "\n",
        "# Our test set will be features calculated up to August 22nd...\n",
        "test_end_date = train_target_end_date\n",
        "# ...to predict who will buy in the week after that.\n",
        "test_target_start_date = test_end_date\n",
        "test_target_end_date = test_end_date + timedelta(days=7)\n",
        "\n",
        "print(f\"Training features up to: {train_end_date}\")\n",
        "print(f\"Training target window: {train_target_start_date} to {train_target_end_date}\")\n",
        "print(f\"Test features up to: {test_end_date}\")\n",
        "print(f\"Test target window: {test_target_start_date} to {test_target_end_date}\")\n",
        "\n",
        "# --- Create Training Set ---\n",
        "print(\"\\nCreating training set...\")\n",
        "X_train_features = create_features(merged_df, train_end_date)\n",
        "X_train = create_target(merged_df, X_train_features, train_target_start_date, train_target_end_date)\n",
        "y_train = X_train.pop('target')\n",
        "X_train = X_train.set_index('visitorid') # Set index for easy lookup\n",
        "\n",
        "# --- Create Test Set ---\n",
        "print(\"Creating test set...\")\n",
        "X_test_features = create_features(merged_df, test_end_date)\n",
        "X_test = create_target(merged_df, X_test_features, test_target_start_date, test_target_end_date)\n",
        "y_test = X_test.pop('target')\n",
        "X_test = X_test.set_index('visitorid')\n",
        "\n",
        "# Align columns - crucial if some features don't appear in one set\n",
        "X_train, X_test = X_train.align(X_test, join='inner', axis=1)\n",
        "\n",
        "print(f\"\\nTraining data shape: {X_train.shape}\")\n",
        "print(f\"Test data shape: {X_test.shape}\")\n",
        "print(f\"Positive cases in training set: {(y_train == 1).sum()}\")\n",
        "print(f\"Positive cases in test set: {(y_test == 1).sum()}\")"
      ],
      "metadata": {
        "colab": {
          "base_uri": "https://localhost:8080/"
        },
        "id": "wHPsUy-sCCUn",
        "outputId": "420c1e3a-da7e-4bda-a6f9-e4ef2a26ed5d"
      },
      "execution_count": null,
      "outputs": [
        {
          "output_type": "stream",
          "name": "stdout",
          "text": [
            "Training features up to: 2015-08-15 00:00:00\n",
            "Training target window: 2015-08-15 00:00:00 to 2015-08-22 00:00:00\n",
            "Test features up to: 2015-08-22 00:00:00\n",
            "Test target window: 2015-08-22 00:00:00 to 2015-08-29 00:00:00\n",
            "\n",
            "Creating training set...\n",
            "Creating test set...\n",
            "\n",
            "Training data shape: (1095383, 8)\n",
            "Test data shape: (1160616, 8)\n",
            "Positive cases in training set: 127\n",
            "Positive cases in test set: 131\n"
          ]
        }
      ]
    },
    {
      "cell_type": "markdown",
      "source": [
        "# Step 5: Train and Evaluate the Model"
      ],
      "metadata": {
        "id": "dGeb84b9CIJR"
      }
    },
    {
      "cell_type": "code",
      "source": [
        "# Cell 5: Model Training and Evaluation\n",
        "\n",
        "import xgboost as xgb\n",
        "from sklearn.metrics import roc_auc_score, f1_score, precision_score, recall_score, confusion_matrix\n",
        "import seaborn as sns\n",
        "import matplotlib.pyplot as plt\n",
        "import numpy as np\n",
        "\n",
        "print(\"Training XGBoost model...\")\n",
        "\n",
        "# Handle potential infinite values in the data\n",
        "X_train = X_train.replace([np.inf, -np.inf], np.nan).fillna(0)\n",
        "X_test = X_test.replace([np.inf, -np.inf], np.nan).fillna(0)\n",
        "\n",
        "\n",
        "# The data is imbalanced, so we use scale_pos_weight\n",
        "scale_pos_weight = (y_train == 0).sum() / (y_train == 1).sum()\n",
        "\n",
        "model = xgb.XGBClassifier(\n",
        "    objective='binary:logistic',\n",
        "    eval_metric='logloss',\n",
        "    scale_pos_weight=scale_pos_weight,\n",
        "    random_state=42\n",
        ")\n",
        "\n",
        "model.fit(X_train, y_train)\n",
        "print(\"Model training complete.\")\n",
        "\n",
        "# --- Evaluate the Model ---\n",
        "print(\"\\nEvaluating model on the test set...\")\n",
        "y_pred_proba = model.predict_proba(X_test)[:, 1]\n",
        "y_pred_binary = (y_pred_proba > 0.5).astype(int) # Using a 0.5 threshold for now\n",
        "\n",
        "# Calculate metrics\n",
        "auc = roc_auc_score(y_test, y_pred_proba)\n",
        "f1 = f1_score(y_test, y_pred_binary)\n",
        "precision = precision_score(y_test, y_pred_binary)\n",
        "recall = recall_score(y_test, y_pred_binary)\n",
        "\n",
        "print(f\"ROC AUC Score: {auc:.4f}\")\n",
        "print(f\"F1 Score: {f1:.4f}\")\n",
        "print(f\"Precision: {precision:.4f}\")\n",
        "print(f\"Recall: {recall:.4f}\")\n",
        "\n",
        "# Plot confusion matrix\n",
        "print(\"\\nConfusion Matrix:\")\n",
        "cm = confusion_matrix(y_test, y_pred_binary)\n",
        "sns.heatmap(cm, annot=True, fmt='d', cmap='Blues')\n",
        "plt.xlabel('Predicted')\n",
        "plt.ylabel('Actual')\n",
        "plt.show()"
      ],
      "metadata": {
        "colab": {
          "base_uri": "https://localhost:8080/",
          "height": 639
        },
        "id": "XDv7MFfkCOto",
        "outputId": "8088c10f-ce15-4b5e-abcf-5f7cdb0166f5"
      },
      "execution_count": null,
      "outputs": [
        {
          "output_type": "stream",
          "name": "stdout",
          "text": [
            "Training XGBoost model...\n",
            "Model training complete.\n",
            "\n",
            "Evaluating model on the test set...\n",
            "ROC AUC Score: 0.6059\n",
            "F1 Score: 0.0006\n",
            "Precision: 0.0003\n",
            "Recall: 0.2977\n",
            "\n",
            "Confusion Matrix:\n"
          ]
        },
        {
          "output_type": "display_data",
          "data": {
            "text/plain": [
              "<Figure size 640x480 with 2 Axes>"
            ],
            "image/png": "[encoded data removed]"
          },
          "metadata": {}
        }
      ]
    },
    {
      "cell_type": "markdown",
      "source": [
        "# Step 6: Save the Final Artifacts"
      ],
      "metadata": {
        "id": "JN3xuuOeCS6j"
      }
    },
    {
      "cell_type": "code",
      "source": [
        "# Cell 6: Save Model and Feature List\n",
        "\n",
        "import joblib\n",
        "import json\n",
        "\n",
        "print(\"Saving model and feature list...\")\n",
        "\n",
        "# Save the model\n",
        "joblib.dump(model, 'propensity_to_buy_model.pkl')\n",
        "\n",
        "# Save the feature list\n",
        "features_list = X_train.columns.tolist()\n",
        "with open('features.json', 'w') as f:\n",
        "    json.dump(features_list, f)\n",
        "\n",
        "print(\"Artifacts saved successfully!\")\n",
        "print(\"You can now download 'propensity_to_buy_model.pkl' and 'features.json' from the file browser on the left.\")"
      ],
      "metadata": {
        "colab": {
          "base_uri": "https://localhost:8080/"
        },
        "id": "epKxPYFpCaJR",
        "outputId": "64ba0e24-8b4d-40ae-ba4d-fafb14fa7ed3"
      },
      "execution_count": null,
      "outputs": [
        {
          "output_type": "stream",
          "name": "stdout",
          "text": [
            "Saving model and feature list...\n",
            "Artifacts saved successfully!\n",
            "You can now download 'propensity_to_buy_model.pkl' and 'features.json' from the file browser on the left.\n"
          ]
        }
      ]
    }
  ]
}