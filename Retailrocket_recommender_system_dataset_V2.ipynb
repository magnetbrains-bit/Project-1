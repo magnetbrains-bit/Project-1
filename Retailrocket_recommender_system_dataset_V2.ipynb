{
  "nbformat": 4,
  "nbformat_minor": 0,
  "metadata": {
    "colab": {
      "provenance": [],
      "authorship_tag": "ABX9TyNUr14ls3Yrs0+jS0is5zkj",
      "include_colab_link": true
    },
    "kernelspec": {
      "name": "python3",
      "display_name": "Python 3"
    },
    "language_info": {
      "name": "python"
    }
  },
  "cells": [
    {
      "cell_type": "markdown",
      "metadata": {
        "id": "view-in-github",
        "colab_type": "text"
      },
      "source": [
        "<a href=\"https://colab.research.google.com/github/magnetbrains-bit/end-to-end-ml-pipeline-retail/blob/main/Retailrocket_recommender_system_dataset_V2.ipynb\" target=\"_parent\"><img src=\"https://colab.research.google.com/assets/colab-badge.svg\" alt=\"Open In Colab\"/></a>"
      ]
    },
    {
      "cell_type": "code",
      "execution_count": null,
      "metadata": {
        "colab": {
          "base_uri": "https://localhost:8080/"
        },
        "id": "mrjPjGh0HT_s",
        "outputId": "12338f10-653d-440e-9eff-0b4800b0a5b6"
      },
      "outputs": [
        {
          "output_type": "stream",
          "name": "stdout",
          "text": [
            "kaggle.json already exists.\n",
            "Kaggle API configured.\n"
          ]
        }
      ],
      "source": [
        "from google.colab import files\n",
        "import pandas as pd\n",
        "import numpy as np\n",
        "from datetime import timedelta\n",
        "import xgboost as xgb\n",
        "from sklearn.metrics import roc_auc_score, f1_score, precision_score, recall_score, confusion_matrix, precision_recall_curve\n",
        "import seaborn as sns\n",
        "import matplotlib.pyplot as plt\n",
        "import joblib\n",
        "import json\n",
        "\n",
        "# This will prompt you to upload your 'kaggle.json' API token.\n",
        "# You only need to do this once per session.\n",
        "if not pd.io.common.file_exists('kaggle.json'):\n",
        "    files.upload()\n",
        "else:\n",
        "    print(\"kaggle.json already exists.\")\n",
        "\n",
        "# Configure the Kaggle API\n",
        "!mkdir -p ~/.kaggle\n",
        "!cp kaggle.json ~/.kaggle/\n",
        "!chmod 600 ~/.kaggle/kaggle.json\n",
        "print(\"Kaggle API configured.\")\n"
      ]
    },
    {
      "cell_type": "code",
      "source": [
        "!kaggle datasets download -d retailrocket/ecommerce-dataset\n",
        "\n",
        "# Unzip the downloaded file\n",
        "!unzip -o ecommerce-dataset.zip"
      ],
      "metadata": {
        "colab": {
          "base_uri": "https://localhost:8080/"
        },
        "id": "r_CWW3q-I-Rt",
        "outputId": "705f9e78-6858-4179-977c-c847b05effc1"
      },
      "execution_count": null,
      "outputs": [
        {
          "output_type": "stream",
          "name": "stdout",
          "text": [
            "Dataset URL: https://www.kaggle.com/datasets/retailrocket/ecommerce-dataset\n",
            "License(s): CC-BY-NC-SA-4.0\n",
            "ecommerce-dataset.zip: Skipping, found more recently modified local copy (use --force to force download)\n",
            "Archive:  ecommerce-dataset.zip\n",
            "  inflating: category_tree.csv       \n",
            "  inflating: events.csv              \n",
            "  inflating: item_properties_part1.csv  \n",
            "  inflating: item_properties_part2.csv  \n"
          ]
        }
      ]
    },
    {
      "cell_type": "code",
      "source": [
        "events_df = pd.read_csv('events.csv')\n",
        "category_tree_df = pd.read_csv('category_tree.csv')\n",
        "\n",
        "# The item properties are split into two files, so we load and concatenate them.\n",
        "item_props_df_part1 = pd.read_csv('item_properties_part1.csv')\n",
        "item_props_df_part2 = pd.read_csv('item_properties_part2.csv')\n",
        "item_props_df = pd.concat([item_props_df_part1, item_props_df_part2], ignore_index=True)\n",
        "\n",
        "# Prepare the main events_df by converting timestamp to a datetime object\n",
        "events_df['timestamp'] = pd.to_datetime(events_df['timestamp'], unit='ms')\n",
        "\n",
        "print(\"All source files loaded successfully.\")\n",
        "print(f\"Time range of events: {events_df['timestamp'].min()} to {events_df['timestamp'].max()}\")\n",
        "\n"
      ],
      "metadata": {
        "colab": {
          "base_uri": "https://localhost:8080/"
        },
        "id": "cyGnay8PI-Uc",
        "outputId": "1ec7947e-ecf6-4dae-d90e-0a1ebdafee58"
      },
      "execution_count": null,
      "outputs": [
        {
          "output_type": "stream",
          "name": "stdout",
          "text": [
            "All source files loaded successfully.\n",
            "Time range of events: 2015-05-03 03:00:04.384000 to 2015-09-18 02:59:47.788000\n"
          ]
        }
      ]
    },
    {
      "cell_type": "code",
      "source": [
        "print(\"\\nSTEP 2: Defining Advanced Feature Engineering Logic...\")\n",
        "\n",
        "def create_features_v2(events, end_date, time_windows=[1, 7, 30]):\n",
        "    \"\"\"Creates time-windowed features to capture user recency and engagement intensity.\"\"\"\n",
        "    df = events[events['timestamp'] <= end_date].copy()\n",
        "    visitor_features = pd.DataFrame(df['visitorid'].unique(), columns=['visitorid'])\n",
        "\n",
        "    for days in time_windows:\n",
        "        start_date_window = end_date - timedelta(days=days)\n",
        "        window_df = df[df['timestamp'] >= start_date_window]\n",
        "\n",
        "        agg_features = window_df.groupby('visitorid').agg(\n",
        "            total_events=('event', 'count'),\n",
        "            num_views=('event', lambda x: (x == 'view').sum()),\n",
        "            num_addtocart=('event', lambda x: (x == 'addtocart').sum()),\n",
        "            num_unique_items=('itemid', 'nunique')\n",
        "        ).reset_index()\n",
        "\n",
        "        agg_features.columns = ['visitorid', f'total_events_{days}d', f'num_views_{days}d', f'num_addtocart_{days}d', f'num_unique_items_{days}d']\n",
        "        visitor_features = pd.merge(visitor_features, agg_features, on='visitorid', how='left')\n",
        "\n",
        "    recency_df = df.groupby('visitorid')['timestamp'].max().reset_index()\n",
        "    recency_df.columns = ['visitorid', 'last_event_ts']\n",
        "    visitor_features = pd.merge(visitor_features, recency_df, on='visitorid', how='left')\n",
        "    visitor_features['days_since_last_event'] = (end_date - visitor_features['last_event_ts']).dt.days\n",
        "    visitor_features.drop(columns=['last_event_ts'], inplace=True)\n",
        "\n",
        "    visitor_features.fillna(0, inplace=True)\n",
        "    visitor_features['add_to_cart_rate_7d'] = visitor_features['num_addtocart_7d'] / visitor_features['num_views_7d']\n",
        "    visitor_features.replace([np.inf, -np.inf], 0, inplace=True) # Replace inf values with 0\n",
        "    visitor_features.fillna(0, inplace=True)\n",
        "\n",
        "\n",
        "    return visitor_features\n",
        "\n",
        "print(\"Advanced feature engineering function created.\")"
      ],
      "metadata": {
        "colab": {
          "base_uri": "https://localhost:8080/"
        },
        "id": "zEXARgQfI-XT",
        "outputId": "ab7112a5-6218-4a54-e771-39938351a7a5"
      },
      "execution_count": null,
      "outputs": [
        {
          "output_type": "stream",
          "name": "stdout",
          "text": [
            "\n",
            "STEP 2: Defining Advanced Feature Engineering Logic...\n",
            "Advanced feature engineering function created.\n"
          ]
        }
      ]
    },
    {
      "cell_type": "code",
      "source": [
        "# STEP 3: TARGET VARIABLE DEFINITION\n",
        "# ----------------------------------\n",
        "# This logic remains the same as it correctly defines our prediction goal.\n",
        "def create_target(events, users, start_date, end_date):\n",
        "    \"\"\"Creates the target variable: 1 if user buys in the future window, 0 otherwise.\"\"\"\n",
        "    target_window = events[(events['timestamp'] > start_date) & (events['timestamp'] <= end_date)]\n",
        "    buyers = target_window[target_window['event'] == 'transaction']['visitorid'].unique()\n",
        "    users['target'] = users['visitorid'].isin(buyers).astype(int)\n",
        "    return users\n",
        "\n",
        "print(\"Target variable creation function defined.\")\n"
      ],
      "metadata": {
        "colab": {
          "base_uri": "https://localhost:8080/"
        },
        "id": "A9Vu_JoAI-ak",
        "outputId": "2c420704-7945-4a2a-daae-4c494d60e79b"
      },
      "execution_count": null,
      "outputs": [
        {
          "output_type": "stream",
          "name": "stdout",
          "text": [
            "Target variable creation function defined.\n"
          ]
        }
      ]
    },
    {
      "cell_type": "code",
      "metadata": {
        "colab": {
          "base_uri": "https://localhost:8080/",
          "height": 1000
        },
        "id": "f5f7a2a0",
        "outputId": "c30ec3e4-57a0-46fa-9ad4-450819f85e23"
      },
      "source": [
        "import numpy as np\n",
        "\n",
        "print(\"Checking for infinite values in X_train:\")\n",
        "display(X_train.isin([np.inf, -np.inf]).sum())\n",
        "\n",
        "print(\"\\nChecking for maximum absolute values in X_train:\")\n",
        "display(X_train.abs().max())"
      ],
      "execution_count": null,
      "outputs": [
        {
          "output_type": "stream",
          "name": "stdout",
          "text": [
            "Checking for infinite values in X_train:\n"
          ]
        },
        {
          "output_type": "display_data",
          "data": {
            "text/plain": [
              "total_events_1d          0\n",
              "num_views_1d             0\n",
              "num_addtocart_1d         0\n",
              "num_unique_items_1d      0\n",
              "total_events_7d          0\n",
              "num_views_7d             0\n",
              "num_addtocart_7d         0\n",
              "num_unique_items_7d      0\n",
              "total_events_30d         0\n",
              "num_views_30d            0\n",
              "num_addtocart_30d        0\n",
              "num_unique_items_30d     0\n",
              "days_since_last_event    0\n",
              "add_to_cart_rate_7d      0\n",
              "dtype: int64"
            ],
            "text/html": [
              "<div>\n",
              "<style scoped>\n",
              "    .dataframe tbody tr th:only-of-type {\n",
              "        vertical-align: middle;\n",
              "    }\n",
              "\n",
              "    .dataframe tbody tr th {\n",
              "        vertical-align: top;\n",
              "    }\n",
              "\n",
              "    .dataframe thead th {\n",
              "        text-align: right;\n",
              "    }\n",
              "</style>\n",
              "<table border=\"1\" class=\"dataframe\">\n",
              "  <thead>\n",
              "    <tr style=\"text-align: right;\">\n",
              "      <th></th>\n",
              "      <th>0</th>\n",
              "    </tr>\n",
              "  </thead>\n",
              "  <tbody>\n",
              "    <tr>\n",
              "      <th>total_events_1d</th>\n",
              "      <td>0</td>\n",
              "    </tr>\n",
              "    <tr>\n",
              "      <th>num_views_1d</th>\n",
              "      <td>0</td>\n",
              "    </tr>\n",
              "    <tr>\n",
              "      <th>num_addtocart_1d</th>\n",
              "      <td>0</td>\n",
              "    </tr>\n",
              "    <tr>\n",
              "      <th>num_unique_items_1d</th>\n",
              "      <td>0</td>\n",
              "    </tr>\n",
              "    <tr>\n",
              "      <th>total_events_7d</th>\n",
              "      <td>0</td>\n",
              "    </tr>\n",
              "    <tr>\n",
              "      <th>num_views_7d</th>\n",
              "      <td>0</td>\n",
              "    </tr>\n",
              "    <tr>\n",
              "      <th>num_addtocart_7d</th>\n",
              "      <td>0</td>\n",
              "    </tr>\n",
              "    <tr>\n",
              "      <th>num_unique_items_7d</th>\n",
              "      <td>0</td>\n",
              "    </tr>\n",
              "    <tr>\n",
              "      <th>total_events_30d</th>\n",
              "      <td>0</td>\n",
              "    </tr>\n",
              "    <tr>\n",
              "      <th>num_views_30d</th>\n",
              "      <td>0</td>\n",
              "    </tr>\n",
              "    <tr>\n",
              "      <th>num_addtocart_30d</th>\n",
              "      <td>0</td>\n",
              "    </tr>\n",
              "    <tr>\n",
              "      <th>num_unique_items_30d</th>\n",
              "      <td>0</td>\n",
              "    </tr>\n",
              "    <tr>\n",
              "      <th>days_since_last_event</th>\n",
              "      <td>0</td>\n",
              "    </tr>\n",
              "    <tr>\n",
              "      <th>add_to_cart_rate_7d</th>\n",
              "      <td>0</td>\n",
              "    </tr>\n",
              "  </tbody>\n",
              "</table>\n",
              "</div><br><label><b>dtype:</b> int64</label>"
            ]
          },
          "metadata": {}
        },
        {
          "output_type": "stream",
          "name": "stdout",
          "text": [
            "\n",
            "Checking for maximum absolute values in X_train:\n"
          ]
        },
        {
          "output_type": "display_data",
          "data": {
            "text/plain": [
              "total_events_1d           193.0\n",
              "num_views_1d              181.0\n",
              "num_addtocart_1d           15.0\n",
              "num_unique_items_1d       148.0\n",
              "total_events_7d           548.0\n",
              "num_views_7d              485.0\n",
              "num_addtocart_7d           39.0\n",
              "num_unique_items_7d       378.0\n",
              "total_events_30d         2737.0\n",
              "num_views_30d            2273.0\n",
              "num_addtocart_30d         264.0\n",
              "num_unique_items_30d     1517.0\n",
              "days_since_last_event     103.0\n",
              "add_to_cart_rate_7d         9.0\n",
              "dtype: float64"
            ],
            "text/html": [
              "<div>\n",
              "<style scoped>\n",
              "    .dataframe tbody tr th:only-of-type {\n",
              "        vertical-align: middle;\n",
              "    }\n",
              "\n",
              "    .dataframe tbody tr th {\n",
              "        vertical-align: top;\n",
              "    }\n",
              "\n",
              "    .dataframe thead th {\n",
              "        text-align: right;\n",
              "    }\n",
              "</style>\n",
              "<table border=\"1\" class=\"dataframe\">\n",
              "  <thead>\n",
              "    <tr style=\"text-align: right;\">\n",
              "      <th></th>\n",
              "      <th>0</th>\n",
              "    </tr>\n",
              "  </thead>\n",
              "  <tbody>\n",
              "    <tr>\n",
              "      <th>total_events_1d</th>\n",
              "      <td>193.0</td>\n",
              "    </tr>\n",
              "    <tr>\n",
              "      <th>num_views_1d</th>\n",
              "      <td>181.0</td>\n",
              "    </tr>\n",
              "    <tr>\n",
              "      <th>num_addtocart_1d</th>\n",
              "      <td>15.0</td>\n",
              "    </tr>\n",
              "    <tr>\n",
              "      <th>num_unique_items_1d</th>\n",
              "      <td>148.0</td>\n",
              "    </tr>\n",
              "    <tr>\n",
              "      <th>total_events_7d</th>\n",
              "      <td>548.0</td>\n",
              "    </tr>\n",
              "    <tr>\n",
              "      <th>num_views_7d</th>\n",
              "      <td>485.0</td>\n",
              "    </tr>\n",
              "    <tr>\n",
              "      <th>num_addtocart_7d</th>\n",
              "      <td>39.0</td>\n",
              "    </tr>\n",
              "    <tr>\n",
              "      <th>num_unique_items_7d</th>\n",
              "      <td>378.0</td>\n",
              "    </tr>\n",
              "    <tr>\n",
              "      <th>total_events_30d</th>\n",
              "      <td>2737.0</td>\n",
              "    </tr>\n",
              "    <tr>\n",
              "      <th>num_views_30d</th>\n",
              "      <td>2273.0</td>\n",
              "    </tr>\n",
              "    <tr>\n",
              "      <th>num_addtocart_30d</th>\n",
              "      <td>264.0</td>\n",
              "    </tr>\n",
              "    <tr>\n",
              "      <th>num_unique_items_30d</th>\n",
              "      <td>1517.0</td>\n",
              "    </tr>\n",
              "    <tr>\n",
              "      <th>days_since_last_event</th>\n",
              "      <td>103.0</td>\n",
              "    </tr>\n",
              "    <tr>\n",
              "      <th>add_to_cart_rate_7d</th>\n",
              "      <td>9.0</td>\n",
              "    </tr>\n",
              "  </tbody>\n",
              "</table>\n",
              "</div><br><label><b>dtype:</b> float64</label>"
            ]
          },
          "metadata": {}
        }
      ]
    },
    {
      "cell_type": "code",
      "metadata": {
        "colab": {
          "base_uri": "https://localhost:8080/"
        },
        "id": "ba5c50c9",
        "outputId": "02c6ad26-86fe-439a-d3ae-c6b14d9cdfe5"
      },
      "source": [
        "# STEP 4: CHRONOLOGICAL SPLIT AND DATA ASSEMBLY\n",
        "# ---------------------------------------------\n",
        "print(\"\\nSTEP 4: Assembling Training and Test Sets...\")\n",
        "train_end_date = pd.to_datetime('2015-08-15')\n",
        "train_target_start_date = train_end_date\n",
        "train_target_end_date = train_end_date + timedelta(days=7)\n",
        "test_end_date = train_target_end_date\n",
        "test_target_start_date = test_end_date\n",
        "test_target_end_date = test_end_date + timedelta(days=7)\n",
        "\n",
        "X_train_features = create_features_v2(events_df, train_end_date)\n",
        "X_train = create_target(events_df, X_train_features, train_target_start_date, train_target_end_date)\n",
        "y_train = X_train.pop('target')\n",
        "X_train = X_train.set_index('visitorid')\n",
        "\n",
        "X_test_features = create_features_v2(events_df, test_end_date)\n",
        "X_test = create_target(events_df, X_test_features, test_target_start_date, test_target_end_date)\n",
        "y_test = X_test.pop('target')\n",
        "X_test = X_test.set_index('visitorid')\n",
        "\n",
        "X_train, X_test = X_train.align(X_test, join='inner', axis=1)\n",
        "print(f\"Training data shape: {X_train.shape}\")\n",
        "print(\"Data assembly complete.\")"
      ],
      "execution_count": null,
      "outputs": [
        {
          "output_type": "stream",
          "name": "stdout",
          "text": [
            "\n",
            "STEP 4: Assembling Training and Test Sets...\n",
            "Training data shape: (1095383, 14)\n",
            "Data assembly complete.\n"
          ]
        }
      ]
    },
    {
      "cell_type": "code",
      "metadata": {
        "colab": {
          "base_uri": "https://localhost:8080/"
        },
        "id": "8bbd7e64",
        "outputId": "d63ac39f-eec1-41f6-c807-e56451bb6d77"
      },
      "source": [
        "import xgboost as xgb\n",
        "from sklearn.metrics import precision_recall_curve, f1_score, precision_score, recall_score, roc_auc_score, confusion_matrix\n",
        "import matplotlib.pyplot as plt\n",
        "import seaborn as sns\n",
        "import joblib\n",
        "import json\n",
        "from datetime import timedelta\n",
        "import pandas as pd\n",
        "import numpy as np\n",
        "\n",
        "# STEP 5: TRAIN OPTIMIZED XGBOOST MODEL\n",
        "# --------------------------------------\n",
        "print(\"\\nSTEP 5: Training Optimized XGBoost Model...\")\n",
        "scale_pos_weight = (y_train == 0).sum() / (y_train == 1).sum()\n",
        "\n",
        "model = xgb.XGBClassifier(\n",
        "    objective='binary:logistic', eval_metric='logloss', scale_pos_weight=scale_pos_weight,\n",
        "    learning_rate=0.05, n_estimators=500, max_depth=4, subsample=0.8,\n",
        "    colsample_bytree=0.8, gamma=0.1, random_state=42\n",
        ")\n",
        "\n",
        "model.fit(X_train, y_train, verbose=False)\n",
        "print(\"Model training complete.\")"
      ],
      "execution_count": null,
      "outputs": [
        {
          "output_type": "stream",
          "name": "stdout",
          "text": [
            "\n",
            "STEP 5: Training Optimized XGBoost Model...\n",
            "Model training complete.\n"
          ]
        }
      ]
    },
    {
      "cell_type": "code",
      "metadata": {
        "colab": {
          "base_uri": "https://localhost:8080/",
          "height": 643
        },
        "id": "e8a45e3b",
        "outputId": "8ea21f84-869f-4502-cc6f-612b9d1550b7"
      },
      "source": [
        "# STEP 6: EVALUATE MODEL WITH OPTIMAL THRESHOLD\n",
        "# ---------------------------------------------\n",
        "print(\"\\nSTEP 6: Evaluating Model and Finding Optimal Threshold...\")\n",
        "y_pred_proba = model.predict_proba(X_test)[:, 1]\n",
        "\n",
        "precision, recall, thresholds = precision_recall_curve(y_test, y_pred_proba)\n",
        "f1_scores = 2 * (precision * recall) / (precision + recall + 1e-9)\n",
        "optimal_idx = np.argmax(f1_scores)\n",
        "optimal_threshold = thresholds[optimal_idx]\n",
        "print(f\"Optimal Threshold found at: {optimal_threshold:.4f}\")\n",
        "\n",
        "y_pred_binary_optimal = (y_pred_proba >= optimal_threshold).astype(int)\n",
        "\n",
        "# --- V2 Model Performance ---\n",
        "auc = roc_auc_score(y_test, y_pred_proba)\n",
        "f1 = f1_score(y_test, y_pred_binary_optimal)\n",
        "new_precision = precision_score(y_test, y_pred_binary_optimal)\n",
        "new_recall = recall_score(y_test, y_pred_binary_optimal)\n",
        "\n",
        "print(\"\\n--- V2 MODEL PERFORMANCE METRICS ---\")\n",
        "print(f\"ROC AUC Score: {auc:.4f}\")\n",
        "print(f\"F1 Score (at optimal threshold): {f1:.4f}\")\n",
        "print(f\"Precision (at optimal threshold): {new_precision:.4f}\")\n",
        "print(f\"Recall (at optimal threshold): {new_recall:.4f}\")\n",
        "\n",
        "# Visualize the new confusion matrix\n",
        "cm = confusion_matrix(y_test, y_pred_binary_optimal)\n",
        "plt.figure(figsize=(6, 5))\n",
        "sns.heatmap(cm, annot=True, fmt='d', cmap='Greens', xticklabels=['Not Buyer', 'Buyer'], yticklabels=['Not Buyer', 'Buyer'])\n",
        "plt.xlabel('Predicted')\n",
        "plt.ylabel('Actual')\n",
        "plt.title('V2 Confusion Matrix (Optimal Threshold)')\n",
        "plt.show()"
      ],
      "execution_count": null,
      "outputs": [
        {
          "output_type": "stream",
          "name": "stdout",
          "text": [
            "\n",
            "STEP 6: Evaluating Model and Finding Optimal Threshold...\n",
            "Optimal Threshold found at: 0.9966\n",
            "\n",
            "--- V2 MODEL PERFORMANCE METRICS ---\n",
            "ROC AUC Score: 0.7854\n",
            "F1 Score (at optimal threshold): 0.2025\n",
            "Precision (at optimal threshold): 0.5926\n",
            "Recall (at optimal threshold): 0.1221\n"
          ]
        },
        {
          "output_type": "display_data",
          "data": {
            "text/plain": [
              "<Figure size 600x500 with 2 Axes>"
            ],
            "image/png": "[encoded data removed]"
          },
          "metadata": {}
        }
      ]
    },
    {
      "cell_type": "code",
      "metadata": {
        "colab": {
          "base_uri": "https://localhost:8080/"
        },
        "id": "bb2c9006",
        "outputId": "832d429b-ad51-494f-9b4d-4ce434ce9989"
      },
      "source": [
        "# STEP 7: SAVE FINAL V2 ARTIFACTS\n",
        "# -------------------------------\n",
        "print(\"\\nSTEP 7: Saving V2 Model and Feature List...\")\n",
        "joblib.dump(model, 'propensity_to_buy_model_v2.pkl')\n",
        "\n",
        "features_list = X_train.columns.tolist()\n",
        "with open('features_v2.json', 'w') as f:\n",
        "    json.dump(features_list, f)\n",
        "\n",
        "print(\"\\n✅ V2 artifacts ('propensity_to_buy_model_v2.pkl' and 'features_v2.json') saved successfully!\")\n",
        "print(\"You can now download these files from the file browser on the left side of Colab.\")"
      ],
      "execution_count": null,
      "outputs": [
        {
          "output_type": "stream",
          "name": "stdout",
          "text": [
            "\n",
            "STEP 7: Saving V2 Model and Feature List...\n",
            "\n",
            "✅ V2 artifacts ('propensity_to_buy_model_v2.pkl' and 'features_v2.json') saved successfully!\n",
            "You can now download these files from the file browser on the left side of Colab.\n"
          ]
        }
      ]
    }
  ]
}